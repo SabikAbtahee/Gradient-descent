{
 "cells": [
  {
   "cell_type": "markdown",
   "metadata": {},
   "source": [
    "## Imports"
   ]
  },
  {
   "cell_type": "code",
   "execution_count": 17,
   "metadata": {},
   "outputs": [],
   "source": [
    "from sympy import Symbol, Derivative"
   ]
  },
  {
   "cell_type": "markdown",
   "metadata": {},
   "source": [
    "## Initialize function, X0, Learning rate"
   ]
  },
  {
   "cell_type": "code",
   "execution_count": 26,
   "metadata": {},
   "outputs": [],
   "source": [
    "\n",
    "x= Symbol('x')\n",
    "function= x**2+10*x\n",
    "x0=3\n",
    "learningRate=0.01\n",
    "\n",
    "maxIteration=1000\n",
    "precision=0.00001"
   ]
  },
  {
   "cell_type": "markdown",
   "metadata": {},
   "source": [
    "##  Make derivative and output value of given funtion"
   ]
  },
  {
   "cell_type": "code",
   "execution_count": 27,
   "metadata": {},
   "outputs": [],
   "source": [
    "def getDerivative(function,withrespectto):\n",
    "    deriv= Derivative(function, withrespectto)\n",
    "    deriv.doit()\n",
    "    return deriv.doit()\n",
    "\n",
    "\n",
    "def returnValueofFunctionGivenX(func,value):\n",
    "    return func.subs({x:value})\n"
   ]
  },
  {
   "cell_type": "markdown",
   "metadata": {},
   "source": [
    "## Iteration until local value is found"
   ]
  },
  {
   "cell_type": "code",
   "execution_count": 28,
   "metadata": {},
   "outputs": [],
   "source": [
    "dydx=getDerivative(function,x)\n",
    "while(True):\n",
    "    x1=x0 - learningRate * returnValueofFunctionGivenX(dydx,x0)\n",
    "    if(abs(x1-x0)<precision):\n",
    "        break\n",
    "    x0=x1"
   ]
  },
  {
   "cell_type": "markdown",
   "metadata": {},
   "source": [
    "## Local Minimum is"
   ]
  },
  {
   "cell_type": "code",
   "execution_count": 29,
   "metadata": {},
   "outputs": [
    {
     "name": "stdout",
     "output_type": "stream",
     "text": [
      "Local minimum is:  -5.0\n"
     ]
    }
   ],
   "source": [
    "print('Local minimum is: ',round(x1,3))"
   ]
  }
 ],
 "metadata": {
  "kernelspec": {
   "display_name": "Python 3",
   "language": "python",
   "name": "python3"
  },
  "language_info": {
   "codemirror_mode": {
    "name": "ipython",
    "version": 3
   },
   "file_extension": ".py",
   "mimetype": "text/x-python",
   "name": "python",
   "nbconvert_exporter": "python",
   "pygments_lexer": "ipython3",
   "version": "3.6.4"
  }
 },
 "nbformat": 4,
 "nbformat_minor": 4
}
